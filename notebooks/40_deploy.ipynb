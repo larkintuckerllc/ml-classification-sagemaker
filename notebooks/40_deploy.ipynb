{
 "cells": [
  {
   "cell_type": "markdown",
   "id": "1a0a7444-3a9a-4b8c-b67b-8791a823f75b",
   "metadata": {},
   "source": [
    "# imports"
   ]
  },
  {
   "cell_type": "code",
   "execution_count": 3,
   "id": "41961f06-4d8f-483f-a99a-abf3c2efeb3f",
   "metadata": {},
   "outputs": [],
   "source": [
    "import sagemaker"
   ]
  },
  {
   "cell_type": "code",
   "execution_count": 4,
   "id": "7d04876f-b5f8-404d-9b67-dd158704291e",
   "metadata": {},
   "outputs": [],
   "source": [
    "MODEL_DATA = \"s3://classification-by-example-sagemaker/output/linear-learner-2025-03-10-11-53-24-997/output/model.tar.gz\""
   ]
  },
  {
   "cell_type": "markdown",
   "id": "8a0d5da7-0f44-4ca5-8782-52aaed9e1555",
   "metadata": {},
   "source": [
    "# set up"
   ]
  },
  {
   "cell_type": "code",
   "execution_count": 5,
   "id": "d0691347-ca27-4482-8db9-616055f9c5e2",
   "metadata": {},
   "outputs": [],
   "source": [
    "sess = sagemaker.Session()\n",
    "region = sess.boto_region_name\n",
    "container = sagemaker.image_uris.retrieve(region=region, framework=\"linear-learner\")\n",
    "role = sagemaker.get_execution_role()\n",
    "model = sagemaker.model.Model(image_uri=container, model_data=MODEL_DATA, role=role)"
   ]
  },
  {
   "cell_type": "markdown",
   "id": "7a3b4ac0-4c77-4c36-9451-bf52df687caa",
   "metadata": {},
   "source": [
    "# deploy"
   ]
  },
  {
   "cell_type": "code",
   "execution_count": 6,
   "id": "7efda5b1-d0d7-4a75-96a6-c012d14f8a7f",
   "metadata": {},
   "outputs": [
    {
     "name": "stdout",
     "output_type": "stream",
     "text": [
      "--------!CPU times: user 366 ms, sys: 40.7 ms, total: 407 ms\n",
      "Wall time: 4min 32s\n"
     ]
    }
   ],
   "source": [
    "%%time\n",
    "model_predictor = model.deploy(initial_instance_count=1, instance_type=\"ml.c4.xlarge\")"
   ]
  }
 ],
 "metadata": {
  "kernelspec": {
   "display_name": "Python 3 (ipykernel)",
   "language": "python",
   "name": "python3"
  },
  "language_info": {
   "codemirror_mode": {
    "name": "ipython",
    "version": 3
   },
   "file_extension": ".py",
   "mimetype": "text/x-python",
   "name": "python",
   "nbconvert_exporter": "python",
   "pygments_lexer": "ipython3",
   "version": "3.11.11"
  }
 },
 "nbformat": 4,
 "nbformat_minor": 5
}
